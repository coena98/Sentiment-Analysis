{
  "nbformat": 4,
  "nbformat_minor": 0,
  "metadata": {
    "accelerator": "GPU",
    "colab": {
      "name": "SAA.ipynb",
      "provenance": []
    },
    "kernelspec": {
      "display_name": "Python 3",
      "name": "python3"
    }
  },
  "cells": [
    {
      "cell_type": "code",
      "metadata": {
        "id": "sAj4nzFknraq"
      },
      "source": [
        "import numpy as np\r\n",
        "import pandas as pd\r\n",
        "from keras.preprocessing.text import Tokenizer\r\n",
        "from keras.preprocessing.sequence import pad_sequences\r\n",
        "from keras.models import Sequential, load_model\r\n",
        "from keras.layers import Dense, Embedding, LSTM, Bidirectional,Flatten,Dropout\r\n",
        "from sklearn.model_selection import train_test_split\r\n",
        "from keras.utils.np_utils import to_categorical\r\n",
        "import re"
      ],
      "execution_count": 34,
      "outputs": []
    },
    {
      "cell_type": "code",
      "metadata": {
        "colab": {
          "base_uri": "https://localhost:8080/",
          "height": 419
        },
        "id": "s75954dnn4Y0",
        "outputId": "6ddc007e-045a-4397-a35d-0d5a9cc63f6a"
      },
      "source": [
        "def remove_special_chars(tweets): # it unrolls the hashtags to normal words\r\n",
        "    for remove in map(lambda r: re.compile(re.escape(r)), [\",\", \":\", \"\\\"\", \"=\", \"&\", \";\", \"%\", \"$\",\r\n",
        "    \"@\", \"%\", \"^\", \"*\", \"(\", \")\", \"{\", \"}\",\r\n",
        "    \"[\", \"]\", \"|\", \"/\", \"\\\\\", \">\", \"<\", \"-\",\r\n",
        "    \"!\", \"?\", \".\", \"‘\",\r\n",
        "    \" — \", \" — -\", \"#\"]):\r\n",
        "      tweets.replace(remove, \"\", inplace=True)\r\n",
        "    return tweets\r\n",
        "def remove_tags(text):\r\n",
        "  return re.compile(r'<[^>]+>').sub('', text)\r\n",
        "def remove_num(text):\r\n",
        "  return ''.join(re.sub(r\"([0–9]+)\",\"\",text))\r\n",
        "data = pd.read_csv('drive/MyDrive/ML Projects/Sentiment Analysis/IMDB Dataset.csv')\r\n",
        "data = data[:2500]\r\n",
        "data.review=data.review.apply(lambda x : remove_tags(x))\r\n",
        "data.review=data.review.apply(lambda x : remove_num(x))\r\n",
        "remove_special_chars(data.review)\r\n",
        "data"
      ],
      "execution_count": 35,
      "outputs": [
        {
          "output_type": "execute_result",
          "data": {
            "text/html": [
              "<div>\n",
              "<style scoped>\n",
              "    .dataframe tbody tr th:only-of-type {\n",
              "        vertical-align: middle;\n",
              "    }\n",
              "\n",
              "    .dataframe tbody tr th {\n",
              "        vertical-align: top;\n",
              "    }\n",
              "\n",
              "    .dataframe thead th {\n",
              "        text-align: right;\n",
              "    }\n",
              "</style>\n",
              "<table border=\"1\" class=\"dataframe\">\n",
              "  <thead>\n",
              "    <tr style=\"text-align: right;\">\n",
              "      <th></th>\n",
              "      <th>review</th>\n",
              "      <th>sentiment</th>\n",
              "    </tr>\n",
              "  </thead>\n",
              "  <tbody>\n",
              "    <tr>\n",
              "      <th>0</th>\n",
              "      <td>One of the other reviewers has mentioned that ...</td>\n",
              "      <td>positive</td>\n",
              "    </tr>\n",
              "    <tr>\n",
              "      <th>1</th>\n",
              "      <td>A wonderful little production The filming tech...</td>\n",
              "      <td>positive</td>\n",
              "    </tr>\n",
              "    <tr>\n",
              "      <th>2</th>\n",
              "      <td>I thought this was a wonderful way to spend ti...</td>\n",
              "      <td>positive</td>\n",
              "    </tr>\n",
              "    <tr>\n",
              "      <th>3</th>\n",
              "      <td>Basically there's a family where a little boy ...</td>\n",
              "      <td>negative</td>\n",
              "    </tr>\n",
              "    <tr>\n",
              "      <th>4</th>\n",
              "      <td>Petter Mattei's Love in the Time of Money is a...</td>\n",
              "      <td>positive</td>\n",
              "    </tr>\n",
              "    <tr>\n",
              "      <th>...</th>\n",
              "      <td>...</td>\n",
              "      <td>...</td>\n",
              "    </tr>\n",
              "    <tr>\n",
              "      <th>2495</th>\n",
              "      <td>Another great movie by CostaGavras It's a grea...</td>\n",
              "      <td>negative</td>\n",
              "    </tr>\n",
              "    <tr>\n",
              "      <th>2496</th>\n",
              "      <td>Though structured totally different from the b...</td>\n",
              "      <td>positive</td>\n",
              "    </tr>\n",
              "    <tr>\n",
              "      <th>2497</th>\n",
              "      <td>Handsome and dashing British airline pilot Geo...</td>\n",
              "      <td>positive</td>\n",
              "    </tr>\n",
              "    <tr>\n",
              "      <th>2498</th>\n",
              "      <td>This film breeches the fine line between satir...</td>\n",
              "      <td>negative</td>\n",
              "    </tr>\n",
              "    <tr>\n",
              "      <th>2499</th>\n",
              "      <td>Mardi Gras Made in China provides a wonderful ...</td>\n",
              "      <td>positive</td>\n",
              "    </tr>\n",
              "  </tbody>\n",
              "</table>\n",
              "<p>2500 rows × 2 columns</p>\n",
              "</div>"
            ],
            "text/plain": [
              "                                                 review sentiment\n",
              "0     One of the other reviewers has mentioned that ...  positive\n",
              "1     A wonderful little production The filming tech...  positive\n",
              "2     I thought this was a wonderful way to spend ti...  positive\n",
              "3     Basically there's a family where a little boy ...  negative\n",
              "4     Petter Mattei's Love in the Time of Money is a...  positive\n",
              "...                                                 ...       ...\n",
              "2495  Another great movie by CostaGavras It's a grea...  negative\n",
              "2496  Though structured totally different from the b...  positive\n",
              "2497  Handsome and dashing British airline pilot Geo...  positive\n",
              "2498  This film breeches the fine line between satir...  negative\n",
              "2499  Mardi Gras Made in China provides a wonderful ...  positive\n",
              "\n",
              "[2500 rows x 2 columns]"
            ]
          },
          "metadata": {
            "tags": []
          },
          "execution_count": 35
        }
      ]
    },
    {
      "cell_type": "code",
      "metadata": {
        "id": "DpWS566jonMf"
      },
      "source": [
        "tokenizer = Tokenizer(num_words=5000,filters='!\"#$%&()*+,-./:;<=>?@[\\\\]^_`{|}~\\t\\n',lower=True,split=\" \")\r\n",
        "tokenizer.fit_on_texts(data['review'])\r\n",
        "X = tokenizer.texts_to_sequences(data['review'])\r\n",
        "X = pad_sequences(X,maxlen=500)\r\n",
        "Y = data['sentiment']\r\n",
        "vocab_size = len(tokenizer.word_index) + 1\r\n",
        "# We can then create our train and test sets:\r\n",
        "X_train, X_test, Y_train, Y_test = train_test_split(X, Y, test_size=0.3, random_state = 24)\r\n",
        "#We store this tokenizer in a file to use later in web app\r\n",
        "import pickle\r\n",
        "# saving\r\n",
        "with open('tokenizer.pickle', 'wb') as handle:\r\n",
        "    pickle.dump(tokenizer, handle, protocol=pickle.HIGHEST_PROTOCOL)\r\n",
        "from sklearn.preprocessing import LabelEncoder\r\n",
        "def prepare_targets(y_train, y_test):\r\n",
        " le = LabelEncoder()\r\n",
        " le.fit(y_train)\r\n",
        " y_train_enc = le.transform(y_train)\r\n",
        " y_test_enc = le.transform(y_test)\r\n",
        " return y_train_enc, y_test_enc\r\n",
        "ytrain,ytest = prepare_targets(Y_train,Y_test)"
      ],
      "execution_count": 36,
      "outputs": []
    },
    {
      "cell_type": "code",
      "metadata": {
        "colab": {
          "base_uri": "https://localhost:8080/"
        },
        "id": "ruhpqlZtpACG",
        "outputId": "76f51c65-31b5-48a7-fd15-791791e36fac"
      },
      "source": [
        "model = Sequential()\r\n",
        "model.add(Embedding(vocab_size, 50, input_length=50))\r\n",
        "model.add(Bidirectional(LSTM(128)))\r\n",
        "model.add(Dropout(0.5))\r\n",
        "model.add(Dense(1,activation='sigmoid'))\r\n",
        "model.compile(optimizer='adam',\r\n",
        " loss='binary_crossentropy',\r\n",
        " metrics=['accuracy'])\r\n",
        "model.summary()"
      ],
      "execution_count": 37,
      "outputs": [
        {
          "output_type": "stream",
          "text": [
            "Model: \"sequential_4\"\n",
            "_________________________________________________________________\n",
            "Layer (type)                 Output Shape              Param #   \n",
            "=================================================================\n",
            "embedding_4 (Embedding)      (None, 50, 50)            1876150   \n",
            "_________________________________________________________________\n",
            "bidirectional_4 (Bidirection (None, 256)               183296    \n",
            "_________________________________________________________________\n",
            "dropout_4 (Dropout)          (None, 256)               0         \n",
            "_________________________________________________________________\n",
            "dense_4 (Dense)              (None, 1)                 257       \n",
            "=================================================================\n",
            "Total params: 2,059,703\n",
            "Trainable params: 2,059,703\n",
            "Non-trainable params: 0\n",
            "_________________________________________________________________\n"
          ],
          "name": "stdout"
        }
      ]
    },
    {
      "cell_type": "code",
      "metadata": {
        "colab": {
          "base_uri": "https://localhost:8080/"
        },
        "id": "OjKLUIJVpQKI",
        "outputId": "cfd8b9db-93c1-4685-e74c-03ebe7b07b2d"
      },
      "source": [
        "from keras.callbacks import EarlyStopping\r\n",
        "es = EarlyStopping(monitor='val_loss', mode='min', verbose=1, patience=5)\r\n",
        "history=model.fit(X_train, ytrain,\r\n",
        " batch_size=287,\r\n",
        " epochs=10,\r\n",
        " validation_data=[X_test, ytest],\r\n",
        " callbacks=[es])\r\n",
        "#We save this model so that we can use in own web app\r\n",
        "model.save('drive/My Drive/Dog Vision/models/movie_sent.h5')"
      ],
      "execution_count": 41,
      "outputs": [
        {
          "output_type": "stream",
          "text": [
            "Epoch 1/10\n",
            "7/7 [==============================] - 1s 134ms/step - loss: 0.6618 - accuracy: 0.6194 - val_loss: 0.0000e+00 - val_accuracy: 0.0000e+00\n",
            "Epoch 2/10\n",
            "7/7 [==============================] - 1s 126ms/step - loss: 0.7311 - accuracy: 0.6543 - val_loss: 0.0000e+00 - val_accuracy: 0.0000e+00\n",
            "Epoch 3/10\n",
            "7/7 [==============================] - 1s 126ms/step - loss: 0.6243 - accuracy: 0.6411 - val_loss: 0.0000e+00 - val_accuracy: 0.0000e+00\n",
            "Epoch 4/10\n",
            "7/7 [==============================] - 1s 125ms/step - loss: 0.5725 - accuracy: 0.7994 - val_loss: 0.0000e+00 - val_accuracy: 0.0000e+00\n",
            "Epoch 5/10\n",
            "7/7 [==============================] - 1s 125ms/step - loss: 0.4514 - accuracy: 0.8417 - val_loss: 0.0000e+00 - val_accuracy: 0.0000e+00\n",
            "Epoch 6/10\n",
            "7/7 [==============================] - 1s 125ms/step - loss: 0.4018 - accuracy: 0.8686 - val_loss: 0.0000e+00 - val_accuracy: 0.0000e+00\n",
            "Epoch 00006: early stopping\n"
          ],
          "name": "stdout"
        }
      ]
    },
    {
      "cell_type": "code",
      "metadata": {
        "colab": {
          "base_uri": "https://localhost:8080/",
          "height": 541
        },
        "id": "hClroplgrmEi",
        "outputId": "bc8723e3-dadc-48b7-85bc-39e3d810343c"
      },
      "source": [
        "%matplotlib inline\r\n",
        "import matplotlib.pyplot as plt\r\n",
        "def plot_graphs(history, string):\r\n",
        "  plt.plot(history.history[string])\r\n",
        "  plt.plot(history.history['val_'+string])\r\n",
        "  plt.xlabel(\"Epochs\")\r\n",
        "  plt.ylabel(string)\r\n",
        "  plt.legend([string, 'val_'+string])\r\n",
        "  plt.show()\r\n",
        "  \r\n",
        "plot_graphs(history, \"accuracy\")\r\n",
        "plot_graphs(history, \"loss\")"
      ],
      "execution_count": 42,
      "outputs": [
        {
          "output_type": "display_data",
          "data": {
            "image/png": "[encoded data removed]",
            "text/plain": [
              "<Figure size 432x288 with 1 Axes>"
            ]
          },
          "metadata": {
            "tags": [],
            "needs_background": "light"
          }
        },
        {
          "output_type": "display_data",
          "data": {
            "image/png": "[encoded data removed]",
            "text/plain": [
              "<Figure size 432x288 with 1 Axes>"
            ]
          },
          "metadata": {
            "tags": [],
            "needs_background": "light"
          }
        }
      ]
    },
    {
      "cell_type": "code",
      "metadata": {
        "colab": {
          "base_uri": "https://localhost:8080/"
        },
        "id": "mLIrwo6SpaGt",
        "outputId": "4801ed9a-b8ae-4874-8f99-f5db11f85770"
      },
      "source": [
        "string11='''Between the Lovecraftian overtones and Liberato’s performance, \r\n",
        "The Beach House offers up beautifully shot terror and will make you think before opening your door.'''\r\n",
        "x_1=tokenizer.texts_to_sequences([string11])\r\n",
        "x_1 = pad_sequences(x_1,maxlen=500)\r\n",
        "model.predict(x_1)"
      ],
      "execution_count": 43,
      "outputs": [
        {
          "output_type": "execute_result",
          "data": {
            "text/plain": [
              "array([[0.59378153]], dtype=float32)"
            ]
          },
          "metadata": {
            "tags": []
          },
          "execution_count": 43
        }
      ]
    }
  ]
}